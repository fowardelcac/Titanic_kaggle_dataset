import pandas as pd
import matplotlib.pyplot as plt
import seaborn as sns
import numpy as np

def set_d(data):
    data.set_index('PassengerId', inplace = True)
    l = data.Name.str.split(',', expand = True)
    data.Name = l[0]
    
    mapeo = {'male': 0, 'female': 1}
    data.Sex = data.Sex.map(mapeo)
    
    data['Age_imp'] = data['Age'].fillna(pd.Series(np.random.choice(data['Age'].dropna(), size=len(data['Age'].isna()))))
# Reemplazar la columna original 'Age' con la columna 'Age_imp'
    data['Age'] = data['Age_imp']
    
    data.Fare = data.Fare.replace(0, data.Fare.median())
    data.drop(['Cabin', 'Age_imp', 'Ticket'], axis = 1, inplace = True)
    
    mapeo = {'S': 0, 
         'C': 1, 
         'Q': 2
        }
    data.Embarked = data.Embarked.map(mapeo)
    
    return data


train, test = pd.read_csv('train.csv'), pd.read_csv('test.csv')
train, test = set_d(train), set_d(test)

train.to_cscv('train_modif')
test.to_cscv('test_modif')
