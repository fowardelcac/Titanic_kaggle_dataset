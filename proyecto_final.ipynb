{
 "cells": [
  {
   "cell_type": "code",
   "execution_count": 1,
   "id": "3bdcf89b",
   "metadata": {},
   "outputs": [],
   "source": [
    "import pandas as pd\n",
    "import numpy as np\n",
    "import matplotlib.pyplot as plt\n",
    "\n",
    "from sklearn.model_selection import train_test_split\n",
    "from sklearn.metrics import accuracy_score\n",
    "from sklearn.tree import DecisionTreeClassifier\n",
    "from sklearn.linear_model import LogisticRegression\n",
    "from sklearn.ensemble import RandomForestClassifier\n",
    "from sklearn.svm import SVC\n",
    "from sklearn.model_selection import GridSearchCV"
   ]
  },
  {
   "cell_type": "markdown",
   "id": "1acadf32",
   "metadata": {},
   "source": [
    "Creo una funcion para entrenar distintos modelos base, y luego obtener un diccionario con los mejores resultados"
   ]
  },
  {
   "cell_type": "code",
   "execution_count": 2,
   "id": "3129fd9d",
   "metadata": {},
   "outputs": [],
   "source": [
    "def modelo(X_train, X_test, y_train, y_test, m):\n",
    "    \n",
    "    if m == 'rl':\n",
    "        model = LogisticRegression(max_iter = 1000, random_state = 42)\n",
    "        model.fit(X_train, y_train)\n",
    "        y_pred = model.predict(X_test)\n",
    "        modelos['rl'] = accuracy_score(y_test, y_pred)\n",
    "        return model\n",
    "    elif m == 'tree':\n",
    "        model = DecisionTreeClassifier(max_depth = 5, random_state = 42)\n",
    "        model.fit(X_train, y_train)\n",
    "        y_pred = model.predict(X_test)\n",
    "        modelos['tree'] = accuracy_score(y_test, y_pred)\n",
    "        return model\n",
    "    elif m == 'rf':\n",
    "        model = RandomForestClassifier(random_state = 42)\n",
    "        model.fit(X_train, y_train)\n",
    "        y_pred = model.predict(X_test)\n",
    "        modelos['RF'] = accuracy_score(y_test, y_pred)\n",
    "        return model\n",
    "    elif m == 'svm':\n",
    "        model = SVC(kernel = 'linear', random_state = 42)\n",
    "        model.fit(X_train, y_train)\n",
    "        y_pred = model.predict(X_test)\n",
    "        modelos['svc'] = accuracy_score(y_test, y_pred)\n",
    "        return model\n",
    "    else:\n",
    "        print(\"Error.\")"
   ]
  },
  {
   "cell_type": "markdown",
   "id": "c4768f21",
   "metadata": {},
   "source": [
    "Cargo y separo los datos en enranamiento y test"
   ]
  },
  {
   "cell_type": "code",
   "execution_count": 3,
   "id": "11f432e6",
   "metadata": {},
   "outputs": [],
   "source": [
    "train, test = pd.read_csv('trainn.csv'), pd.read_csv('testt.csv')\n",
    "\n",
    "train['Flia'] = train.SibSp + train.Parch\n",
    "test['Flia'] = test.SibSp + test.Parch\n",
    "train.Age = train.Age.astype(int)\n",
    "\n",
    "train = train.loc[train.Age > 0]\n",
    "X = train[['Pclass', 'Sex', 'Age', 'Flia']]\n",
    "y = train.Survived.to_numpy()\n",
    "\n",
    "X_train, X_test, y_train, y_test = train_test_split(X, y, random_state = 42)"
   ]
  },
  {
   "cell_type": "code",
   "execution_count": 4,
   "id": "9843eb99",
   "metadata": {},
   "outputs": [],
   "source": [
    "X_test_kaggle = test[['Pclass', 'Sex', 'Age', 'Flia']]"
   ]
  },
  {
   "cell_type": "code",
   "execution_count": 5,
   "id": "188c2cfa",
   "metadata": {},
   "outputs": [],
   "source": [
    "modelos = {}\n",
    "modelos_lista = ['rl', 'tree', 'rf', 'svm']\n",
    "for i in modelos_lista:\n",
    "    m = modelo(X_train, X_test, y_train, y_test, i)"
   ]
  },
  {
   "cell_type": "markdown",
   "id": "3d8911b8",
   "metadata": {},
   "source": [
    "Visualizo resultados modelos, aparentemente el mejro resultado lo tiene el random forest, asi que procedo a utilizar grid search para buscar parametros mejores"
   ]
  },
  {
   "cell_type": "code",
   "execution_count": 6,
   "id": "f3b02b7f",
   "metadata": {},
   "outputs": [
    {
     "data": {
      "text/plain": [
       "{'rl': 0.7828054298642534,\n",
       " 'tree': 0.7737556561085973,\n",
       " 'RF': 0.8054298642533937,\n",
       " 'svc': 0.7782805429864253}"
      ]
     },
     "execution_count": 6,
     "metadata": {},
     "output_type": "execute_result"
    }
   ],
   "source": [
    "modelos"
   ]
  },
  {
   "cell_type": "code",
   "execution_count": 6,
   "id": "d0234c2e",
   "metadata": {},
   "outputs": [
    {
     "data": {
      "text/plain": [
       "{'rl': 0.7937219730941704,\n",
       " 'tree': 0.8026905829596412,\n",
       " 'RF': 0.7847533632286996,\n",
       " 'svc': 0.7847533632286996}"
      ]
     },
     "execution_count": 6,
     "metadata": {},
     "output_type": "execute_result"
    }
   ],
   "source": [
    "modelos"
   ]
  },
  {
   "cell_type": "markdown",
   "id": "0d7d00d8",
   "metadata": {},
   "source": [
    "## Grid p/ tree"
   ]
  },
  {
   "cell_type": "code",
   "execution_count": 8,
   "id": "316ff860",
   "metadata": {},
   "outputs": [
    {
     "name": "stdout",
     "output_type": "stream",
     "text": [
      "Mejores parámetros:  {'criterion': 'gini', 'max_depth': 3, 'max_features': None, 'min_samples_leaf': 2, 'min_samples_split': 2}\n"
     ]
    }
   ],
   "source": [
    "param_grid = {\n",
    "    'criterion': ['gini', 'entropy'],\n",
    "    'max_depth': [3, 5, 7, 9],\n",
    "    'min_samples_split': [2, 5, 10],\n",
    "    'min_samples_leaf': [1, 2, 4],\n",
    "    'max_features': [None, 'sqrt', 'log2']\n",
    "}\n",
    "\n",
    "# Definir el modelo base\n",
    "model = DecisionTreeClassifier()\n",
    "\n",
    "# Realizar la búsqueda de parámetros óptimos\n",
    "grid_search = GridSearchCV(estimator=model, param_grid=param_grid, cv=5,scoring = 'accuracy')\n",
    "grid_search.fit(X_train, y_train)\n",
    "\n",
    "# Imprimir los mejores parámetros y la mejor puntuación\n",
    "print(\"Mejores parámetros: \", grid_search.best_params_)"
   ]
  },
  {
   "cell_type": "code",
   "execution_count": 9,
   "id": "bec43578",
   "metadata": {},
   "outputs": [
    {
     "data": {
      "text/plain": [
       "0.8071748878923767"
      ]
     },
     "execution_count": 9,
     "metadata": {},
     "output_type": "execute_result"
    }
   ],
   "source": [
    "tree_grid = grid_search.best_estimator_\n",
    "y_pred = tree_grid.predict(X_test)\n",
    "accuracy_score(y_test, y_pred)"
   ]
  },
  {
   "cell_type": "code",
   "execution_count": 10,
   "id": "56fe1b37",
   "metadata": {},
   "outputs": [],
   "source": [
    "predecir = tree_grid.predict(X_test_kaggle)\n",
    "arbol_df = pd.DataFrame({'PassengerId': test.PassengerId,\n",
    "                         'Survived': predecir\n",
    "                         })\n",
    "arbol_df.set_index('PassengerId', inplace = True)\n",
    "arbol_df.to_csv('arbol.csv')"
   ]
  },
  {
   "cell_type": "markdown",
   "id": "a72d26fd",
   "metadata": {},
   "source": [
    "## Grid P/RF"
   ]
  },
  {
   "cell_type": "markdown",
   "id": "4af9a69c",
   "metadata": {},
   "source": [
    "Mejores hiperparametros: {'criterion': 'gini', 'max_depth': 5, 'n_estimators': 150}"
   ]
  },
  {
   "cell_type": "code",
   "execution_count": 7,
   "id": "44ef662c",
   "metadata": {},
   "outputs": [
    {
     "name": "stdout",
     "output_type": "stream",
     "text": [
      "Mejores hiperparametros: {'criterion': 'entropy', 'max_depth': 5, 'n_estimators': 150}\n"
     ]
    }
   ],
   "source": [
    "params = {\n",
    "    'n_estimators': [100, 150],\n",
    "    'criterion': ['gini', 'entropy'],\n",
    "    'max_depth': [5, 10, 20]\n",
    "}\n",
    "\n",
    "bosque = RandomForestClassifier()\n",
    "grid_search = GridSearchCV(bosque, params, cv = 5, scoring = 'accuracy')\n",
    "grid_search.fit(X_train, y_train)\n",
    "print(\"Mejores hiperparametros:\", grid_search.best_params_)"
   ]
  },
  {
   "cell_type": "code",
   "execution_count": 8,
   "id": "af8305b7",
   "metadata": {},
   "outputs": [
    {
     "data": {
      "text/plain": [
       "0.8054298642533937"
      ]
     },
     "execution_count": 8,
     "metadata": {},
     "output_type": "execute_result"
    }
   ],
   "source": [
    "bosque_n = grid_search.best_estimator_\n",
    "y_pred = bosque_n.predict(X_test)\n",
    "accuracy_score(y_test, y_pred)"
   ]
  },
  {
   "cell_type": "markdown",
   "id": "5cf65dc8",
   "metadata": {},
   "source": [
    "Genero predicciones y guardo modelo"
   ]
  },
  {
   "cell_type": "code",
   "execution_count": 9,
   "id": "276382ab",
   "metadata": {},
   "outputs": [],
   "source": [
    "predecir = bosque_n.predict(X_test_kaggle)\n",
    "bosque_df = pd.DataFrame({'PassengerId': test.PassengerId,\n",
    "                         'Survived': predecir\n",
    "                         })\n",
    "bosque_df.set_index('PassengerId', inplace = True)"
   ]
  },
  {
   "cell_type": "code",
   "execution_count": 10,
   "id": "fd5f24d3",
   "metadata": {},
   "outputs": [],
   "source": [
    "bosque_df.to_csv('rdo_final.csv')"
   ]
  }
 ],
 "metadata": {
  "kernelspec": {
   "display_name": "jc",
   "language": "python",
   "name": "jc"
  },
  "language_info": {
   "codemirror_mode": {
    "name": "ipython",
    "version": 3
   },
   "file_extension": ".py",
   "mimetype": "text/x-python",
   "name": "python",
   "nbconvert_exporter": "python",
   "pygments_lexer": "ipython3",
   "version": "3.10.9"
  }
 },
 "nbformat": 4,
 "nbformat_minor": 5
}
