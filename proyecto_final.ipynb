{
 "cells": [
  {
   "cell_type": "code",
   "execution_count": 1,
   "id": "f7d90a29",
   "metadata": {},
   "outputs": [],
   "source": [
    "import pandas as pd\n",
    "import numpy as np\n",
    "import matplotlib.pyplot as plt\n",
    "\n",
    "from sklearn.model_selection import train_test_split\n",
    "from sklearn.metrics import accuracy_score\n",
    "from sklearn.tree import DecisionTreeClassifier\n",
    "from sklearn.linear_model import LogisticRegression\n",
    "from sklearn.ensemble import RandomForestClassifier\n",
    "from sklearn.svm import SVC\n",
    "from sklearn.model_selection import GridSearchCV"
   ]
  },
  {
   "cell_type": "markdown",
   "id": "6d83e651",
   "metadata": {},
   "source": [
    "Creo una funcion para entrenar distintos modelos base, y luego obtener un diccionario con los mejores resultados"
   ]
  },
  {
   "cell_type": "code",
   "execution_count": 21,
   "id": "a41dcc20",
   "metadata": {},
   "outputs": [],
   "source": [
    "def modelo(X_train, X_test, y_train, y_test, m):\n",
    "    \n",
    "    if m == 'rl':\n",
    "        model = LogisticRegression(max_iter = 1000, random_state = 42)\n",
    "        model.fit(X_train, y_train)\n",
    "        y_pred = model.predict(X_test)\n",
    "        modelos['rl'] = accuracy_score(y_test, y_pred)\n",
    "        return model\n",
    "    elif m == 'tree':\n",
    "        model = DecisionTreeClassifier(max_depth = 5, random_state = 42)\n",
    "        model.fit(X_train, y_train)\n",
    "        y_pred = model.predict(X_test)\n",
    "        modelos['tree'] = accuracy_score(y_test, y_pred)\n",
    "        return model\n",
    "    elif m == 'rf':\n",
    "        model = RandomForestClassifier(random_state = 42)\n",
    "        model.fit(X_train, y_train)\n",
    "        y_pred = model.predict(X_test)\n",
    "        modelos['RF'] = accuracy_score(y_test, y_pred)\n",
    "        return model\n",
    "    elif m == 'svm':\n",
    "        model = SVC(kernel = 'linear', random_state = 42)\n",
    "        model.fit(X_train, y_train)\n",
    "        y_pred = model.predict(X_test)\n",
    "        modelos['svc'] = accuracy_score(y_test, y_pred)\n",
    "        return model\n",
    "    else:\n",
    "        print(\"Error.\")"
   ]
  },
  {
   "cell_type": "markdown",
   "id": "b00ffeca",
   "metadata": {},
   "source": [
    "Cargo y separo los datos en enranamiento y test"
   ]
  },
  {
   "cell_type": "code",
   "execution_count": 69,
   "id": "326f439c",
   "metadata": {},
   "outputs": [],
   "source": [
    "train, test = pd.read_csv('trainn.csv'), pd.read_csv('testt.csv')\n",
    "\n",
    "X = train[['Pclass', 'Sex', 'Age']]\n",
    "y = train.Survived.to_numpy()\n",
    "\n",
    "X_train, X_test, y_train, y_test = train_test_split(X, y, random_state = 42, stratify = y)"
   ]
  },
  {
   "cell_type": "code",
   "execution_count": 10,
   "id": "64591021",
   "metadata": {},
   "outputs": [],
   "source": [
    "X_test_kaggle = test[['Pclass', 'Sex', 'Age']]"
   ]
  },
  {
   "cell_type": "code",
   "execution_count": 22,
   "id": "89429e4b",
   "metadata": {},
   "outputs": [],
   "source": [
    "modelos = {}\n",
    "modelos_lista = ['rl', 'tree', 'rf', 'svm']\n",
    "for i in modelos_lista:\n",
    "    m = modelo(X_train, X_test, y_train, y_test, i)"
   ]
  },
  {
   "cell_type": "markdown",
   "id": "1540d824",
   "metadata": {},
   "source": [
    "Visualizo resultados modelos, aparentemente el mejro resultado lo tiene el random forest, asi que procedo a utilizar grid search para buscar parametros mejores"
   ]
  },
  {
   "cell_type": "code",
   "execution_count": 23,
   "id": "e8ccc44c",
   "metadata": {},
   "outputs": [
    {
     "data": {
      "text/plain": [
       "{'rl': 0.7668161434977578,\n",
       " 'tree': 0.7757847533632287,\n",
       " 'RF': 0.7892376681614349,\n",
       " 'svc': 0.7668161434977578}"
      ]
     },
     "execution_count": 23,
     "metadata": {},
     "output_type": "execute_result"
    }
   ],
   "source": [
    "modelos"
   ]
  },
  {
   "cell_type": "code",
   "execution_count": 48,
   "id": "956fa5ee",
   "metadata": {},
   "outputs": [
    {
     "name": "stdout",
     "output_type": "stream",
     "text": [
      "Mejores hiperparametros: {'criterion': 'entropy', 'max_depth': 5, 'n_estimators': 150}\n"
     ]
    }
   ],
   "source": [
    "params = {\n",
    "    'n_estimators': [100, 150],\n",
    "    'criterion': ['gini', 'entropy'],\n",
    "    'max_depth': [5, 10, 20]\n",
    "}\n",
    "\n",
    "bosque = RandomForestClassifier()\n",
    "grid_search = GridSearchCV(bosque, params, cv = 5, scoring = 'accuracy')\n",
    "grid_search.fit(X_train, y_train)\n",
    "print(\"Mejores hiperparametros:\", grid_search.best_params_)"
   ]
  },
  {
   "cell_type": "code",
   "execution_count": 65,
   "id": "55ae392d",
   "metadata": {},
   "outputs": [
    {
     "data": {
      "text/plain": [
       "0.7847533632286996"
      ]
     },
     "execution_count": 65,
     "metadata": {},
     "output_type": "execute_result"
    }
   ],
   "source": [
    "bosque_n = grid_search.best_estimator_\n",
    "y_pred = bosque_n.predict(X_test)\n",
    "accuracy_score(y_test, y_pred)"
   ]
  },
  {
   "cell_type": "markdown",
   "id": "c5426d4c",
   "metadata": {},
   "source": [
    "Genero predicciones y guardo modelo"
   ]
  },
  {
   "cell_type": "code",
   "execution_count": 66,
   "id": "1c6265a0",
   "metadata": {},
   "outputs": [],
   "source": [
    "predecir = bosque_n.predict(X_test_kaggle)\n",
    "bosque_df = pd.DataFrame({'PassengerId': test.PassengerId,\n",
    "                         'Survived': predecir\n",
    "                         })\n",
    "bosque_df.set_index('PassengerId', inplace = True)"
   ]
  },
  {
   "cell_type": "code",
   "execution_count": 67,
   "id": "dbff339e",
   "metadata": {},
   "outputs": [
    {
     "data": {
      "text/html": [
       "<div>\n",
       "<style scoped>\n",
       "    .dataframe tbody tr th:only-of-type {\n",
       "        vertical-align: middle;\n",
       "    }\n",
       "\n",
       "    .dataframe tbody tr th {\n",
       "        vertical-align: top;\n",
       "    }\n",
       "\n",
       "    .dataframe thead th {\n",
       "        text-align: right;\n",
       "    }\n",
       "</style>\n",
       "<table border=\"1\" class=\"dataframe\">\n",
       "  <thead>\n",
       "    <tr style=\"text-align: right;\">\n",
       "      <th></th>\n",
       "      <th>Survived</th>\n",
       "    </tr>\n",
       "    <tr>\n",
       "      <th>PassengerId</th>\n",
       "      <th></th>\n",
       "    </tr>\n",
       "  </thead>\n",
       "  <tbody>\n",
       "    <tr>\n",
       "      <th>892</th>\n",
       "      <td>0</td>\n",
       "    </tr>\n",
       "    <tr>\n",
       "      <th>893</th>\n",
       "      <td>1</td>\n",
       "    </tr>\n",
       "    <tr>\n",
       "      <th>894</th>\n",
       "      <td>0</td>\n",
       "    </tr>\n",
       "    <tr>\n",
       "      <th>895</th>\n",
       "      <td>0</td>\n",
       "    </tr>\n",
       "    <tr>\n",
       "      <th>896</th>\n",
       "      <td>1</td>\n",
       "    </tr>\n",
       "    <tr>\n",
       "      <th>...</th>\n",
       "      <td>...</td>\n",
       "    </tr>\n",
       "    <tr>\n",
       "      <th>1305</th>\n",
       "      <td>0</td>\n",
       "    </tr>\n",
       "    <tr>\n",
       "      <th>1306</th>\n",
       "      <td>1</td>\n",
       "    </tr>\n",
       "    <tr>\n",
       "      <th>1307</th>\n",
       "      <td>0</td>\n",
       "    </tr>\n",
       "    <tr>\n",
       "      <th>1308</th>\n",
       "      <td>0</td>\n",
       "    </tr>\n",
       "    <tr>\n",
       "      <th>1309</th>\n",
       "      <td>0</td>\n",
       "    </tr>\n",
       "  </tbody>\n",
       "</table>\n",
       "<p>418 rows × 1 columns</p>\n",
       "</div>"
      ],
      "text/plain": [
       "             Survived\n",
       "PassengerId          \n",
       "892                 0\n",
       "893                 1\n",
       "894                 0\n",
       "895                 0\n",
       "896                 1\n",
       "...               ...\n",
       "1305                0\n",
       "1306                1\n",
       "1307                0\n",
       "1308                0\n",
       "1309                0\n",
       "\n",
       "[418 rows x 1 columns]"
      ]
     },
     "execution_count": 67,
     "metadata": {},
     "output_type": "execute_result"
    }
   ],
   "source": [
    "bosque_df"
   ]
  },
  {
   "cell_type": "code",
   "execution_count": 68,
   "id": "a6e965b2",
   "metadata": {},
   "outputs": [],
   "source": [
    "bosque_df.to_csv('Rdo_final.csv')"
   ]
  }
 ],
 "metadata": {
  "kernelspec": {
   "display_name": "jc",
   "language": "python",
   "name": "jc"
  },
  "language_info": {
   "codemirror_mode": {
    "name": "ipython",
    "version": 3
   },
   "file_extension": ".py",
   "mimetype": "text/x-python",
   "name": "python",
   "nbconvert_exporter": "python",
   "pygments_lexer": "ipython3",
   "version": "3.10.9"
  }
 },
 "nbformat": 4,
 "nbformat_minor": 5
}
