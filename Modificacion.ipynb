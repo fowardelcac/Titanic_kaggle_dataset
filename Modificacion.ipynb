{
 "cells": [
  {
   "cell_type": "code",
   "execution_count": 1,
   "id": "b2814042",
   "metadata": {},
   "outputs": [],
   "source": [
    "import pandas as pd\n",
    "import matplotlib.pyplot as plt\n",
    "import seaborn as sns\n",
    "import numpy as np"
   ]
  },
  {
   "cell_type": "code",
   "execution_count": 2,
   "id": "8745dc4c",
   "metadata": {},
   "outputs": [],
   "source": [
    "def set_d(data):\n",
    "    data.set_index('PassengerId', inplace = True)\n",
    "    l = data.Name.str.split(',', expand = True)\n",
    "    data.Name = l[0]\n",
    "    \n",
    "    mapeo = {'male': 0, 'female': 1}\n",
    "    data.Sex = data.Sex.map(mapeo)\n",
    "    \n",
    "    data['Age_imp'] = data['Age'].fillna(pd.Series(np.random.choice(data['Age'].dropna(), size=len(data['Age'].isna()))))\n",
    "# Reemplazar la columna original 'Age' con la columna 'Age_imp'\n",
    "    data['Age'] = data['Age_imp']\n",
    "    \n",
    "    data.Fare = data.Fare.replace(0, data.Fare.median())\n",
    "    data.drop(['Cabin', 'Age_imp', 'Ticket'], axis = 1, inplace = True)\n",
    "    \n",
    "    mapeo = {'S': 0, \n",
    "         'C': 1, \n",
    "         'Q': 2\n",
    "        }\n",
    "    data.Embarked = data.Embarked.map(mapeo)\n",
    "    \n",
    "    return data"
   ]
  },
  {
   "cell_type": "code",
   "execution_count": 52,
   "id": "cc894af4",
   "metadata": {},
   "outputs": [],
   "source": [
    "train, test = set_d(train), set_d(test)\n",
    "\n",
    "train.to_csv('train_modif.csv')\n",
    "test.to_csv('test_modif.csv')"
   ]
  }
 ],
 "metadata": {
  "kernelspec": {
   "display_name": "jc",
   "language": "python",
   "name": "jc"
  },
  "language_info": {
   "codemirror_mode": {
    "name": "ipython",
    "version": 3
   },
   "file_extension": ".py",
   "mimetype": "text/x-python",
   "name": "python",
   "nbconvert_exporter": "python",
   "pygments_lexer": "ipython3",
   "version": "3.10.9"
  }
 },
 "nbformat": 4,
 "nbformat_minor": 5
}
